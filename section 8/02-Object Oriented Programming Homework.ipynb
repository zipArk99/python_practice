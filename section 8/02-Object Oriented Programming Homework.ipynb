{
  "metadata": {
    "kernelspec": {
      "name": "python",
      "display_name": "Python (Pyodide)",
      "language": "python"
    },
    "language_info": {
      "codemirror_mode": {
        "name": "python",
        "version": 3
      },
      "file_extension": ".py",
      "mimetype": "text/x-python",
      "name": "python",
      "nbconvert_exporter": "python",
      "pygments_lexer": "ipython3",
      "version": "3.8"
    }
  },
  "nbformat_minor": 4,
  "nbformat": 4,
  "cells": [
    {
      "cell_type": "markdown",
      "source": "___\n\n<a href='https://www.udemy.com/user/joseportilla/'><img src='../Pierian_Data_Logo.png'/></a>\n___\n<center><em>Content Copyright by Pierian Data</em></center>",
      "metadata": {}
    },
    {
      "cell_type": "markdown",
      "source": "# Object Oriented Programming\n## Homework Assignment\n\n#### Problem 1\nFill in the Line class methods to accept coordinates as a pair of tuples and return the slope and distance of the line.",
      "metadata": {}
    },
    {
      "cell_type": "code",
      "source": "import math\nclass Line:\n    \n    def __init__(self,coor1,coor2):\n        self.coor1=coor1\n        self.coor2=coor2\n    \n    def distance(self):\n        return math.sqrt((self.coor2[1]-self.coor1[1])**2+(self.coor2[0]-self.coor1[0])**2)\n    \n    \n    \n    def slope(self):\n        return (self.coor2[1]-self.coor1[1])/(self.coor2[0]-self.coor1[0])",
      "metadata": {
        "tags": [],
        "trusted": true
      },
      "execution_count": 22,
      "outputs": []
    },
    {
      "cell_type": "code",
      "source": "# EXAMPLE OUTPUT\n\ncoordinate1 = (3,2)\ncoordinate2 = (8,10)\n\nli = Line(coordinate1,coordinate2)",
      "metadata": {
        "tags": [],
        "trusted": true
      },
      "execution_count": 23,
      "outputs": []
    },
    {
      "cell_type": "code",
      "source": "li.distance()",
      "metadata": {
        "trusted": true
      },
      "execution_count": 24,
      "outputs": [
        {
          "execution_count": 24,
          "output_type": "execute_result",
          "data": {
            "text/plain": "9.433981132056603"
          },
          "metadata": {}
        }
      ]
    },
    {
      "cell_type": "code",
      "source": "li.slope()",
      "metadata": {
        "trusted": true
      },
      "execution_count": 25,
      "outputs": [
        {
          "execution_count": 25,
          "output_type": "execute_result",
          "data": {
            "text/plain": "1.6"
          },
          "metadata": {}
        }
      ]
    },
    {
      "cell_type": "markdown",
      "source": "________\n#### Problem 2",
      "metadata": {}
    },
    {
      "cell_type": "markdown",
      "source": "Fill in the class ",
      "metadata": {}
    },
    {
      "cell_type": "code",
      "source": "import math\nclass Cylinder:\n    \n    def __init__(self,height=1,radius=1):\n        self.height=height\n        self.radius=radius\n        \n    def volume(self):\n        return math.pi*(self.radius**2)*self.height\n    \n    def surface_area(self):\n        return (2*math.pi*self.radius*self.height)+(2*math.pi*self.radius**2)",
      "metadata": {
        "tags": [],
        "trusted": true
      },
      "execution_count": 41,
      "outputs": []
    },
    {
      "cell_type": "code",
      "source": "# EXAMPLE OUTPUT\nc = Cylinder(2,3)",
      "metadata": {
        "tags": [],
        "trusted": true
      },
      "execution_count": 42,
      "outputs": []
    },
    {
      "cell_type": "code",
      "source": "c.volume()",
      "metadata": {
        "trusted": true
      },
      "execution_count": 43,
      "outputs": [
        {
          "execution_count": 43,
          "output_type": "execute_result",
          "data": {
            "text/plain": "56.548667764616276"
          },
          "metadata": {}
        }
      ]
    },
    {
      "cell_type": "code",
      "source": "c.surface_area()",
      "metadata": {
        "trusted": true
      },
      "execution_count": 44,
      "outputs": [
        {
          "execution_count": 44,
          "output_type": "execute_result",
          "data": {
            "text/plain": "94.24777960769379"
          },
          "metadata": {}
        }
      ]
    },
    {
      "cell_type": "code",
      "source": "",
      "metadata": {},
      "execution_count": null,
      "outputs": []
    }
  ]
}